{
 "cells": [
  {
   "cell_type": "code",
   "execution_count": 76,
   "source": [
    "import tweepy"
   ],
   "outputs": [],
   "metadata": {}
  },
  {
   "cell_type": "code",
   "execution_count": 2,
   "source": [
    "consumer_key = \"\"\n",
    "consumer_secret = \"\"\n",
    "\n",
    "access_token = \"\""
   ],
   "outputs": [],
   "metadata": {}
  },
  {
   "cell_type": "code",
   "execution_count": 3,
   "source": [
    "auth = tweepy.OAuthHandler(consumer_key, consumer_secret)\n",
    "api = tweepy.API(auth)"
   ],
   "outputs": [],
   "metadata": {}
  },
  {
   "cell_type": "code",
   "execution_count": 9,
   "source": [
    "tweets = api.user_timeline(\"elonmusk\", count=200)"
   ],
   "outputs": [],
   "metadata": {}
  },
  {
   "cell_type": "code",
   "execution_count": 10,
   "source": [
    "for info in tweets[:3]:\n",
    "     print(\"ID: {}\".format(info.id))\n",
    "     print(info.created_at)\n",
    "     print(info.text)\n",
    "     print(\"\\n\")"
   ],
   "outputs": [
    {
     "output_type": "stream",
     "name": "stdout",
     "text": [
      "ID: 1440567662258442247\n",
      "2021-09-22 06:44:29\n",
      "@rookisaacman @ArceneauxHayley @DrSianProctor @ChrisSembroski @inspiration4x @StJude Great view of Earth!\n",
      "\n",
      "\n",
      "ID: 1440501267944513537\n",
      "2021-09-22 02:20:40\n",
      "@HistoryInPics Tesla is the king of car farts!\n",
      "\n",
      "\n",
      "ID: 1440482413973409802\n",
      "2021-09-22 01:05:45\n",
      "@ro_ma_vive @cybrtrkguy Hopefully worldwide long-term, but insurance is a regulatory labyrinth/escape room!\n",
      "\n",
      "\n"
     ]
    }
   ],
   "metadata": {}
  },
  {
   "cell_type": "code",
   "execution_count": 16,
   "source": [
    "tweet = tweets[-1]"
   ],
   "outputs": [],
   "metadata": {}
  },
  {
   "cell_type": "code",
   "execution_count": 17,
   "source": [
    "tweet.id"
   ],
   "outputs": [
    {
     "output_type": "execute_result",
     "data": {
      "text/plain": [
       "1433121450446127106"
      ]
     },
     "metadata": {},
     "execution_count": 17
    }
   ],
   "metadata": {}
  },
  {
   "cell_type": "code",
   "execution_count": 29,
   "source": [
    "tweets2 = api.user_timeline(\"elonmusk\", count=200, max_id=999999999999999999999999999999999)"
   ],
   "outputs": [],
   "metadata": {}
  },
  {
   "cell_type": "code",
   "execution_count": null,
   "source": [
    "api."
   ],
   "outputs": [],
   "metadata": {}
  },
  {
   "cell_type": "code",
   "execution_count": 52,
   "source": [
    "full_tweets = []"
   ],
   "outputs": [],
   "metadata": {}
  },
  {
   "cell_type": "code",
   "execution_count": 69,
   "source": [
    "full_tweets = []\n",
    "\n",
    "for info in tweepy.Cursor(api.user_timeline, screen_name=\"elonmusk\").pages(2000):\n",
    "    # print(info)\n",
    "    full_tweets.append(info)"
   ],
   "outputs": [],
   "metadata": {}
  },
  {
   "cell_type": "code",
   "execution_count": 63,
   "source": [
    "print(len(full_tweets[0]))\n",
    "full_tweets[0][0].id"
   ],
   "outputs": [
    {
     "output_type": "stream",
     "name": "stdout",
     "text": [
      "20\n"
     ]
    },
    {
     "output_type": "execute_result",
     "data": {
      "text/plain": [
       "1440567662258442247"
      ]
     },
     "metadata": {},
     "execution_count": 63
    }
   ],
   "metadata": {}
  },
  {
   "cell_type": "code",
   "execution_count": 65,
   "source": [
    "print(len(full_tweets[0]))\n",
    "full_tweets[0][0].id"
   ],
   "outputs": [
    {
     "output_type": "stream",
     "name": "stdout",
     "text": [
      "20\n"
     ]
    },
    {
     "output_type": "execute_result",
     "data": {
      "text/plain": [
       "1440567662258442247"
      ]
     },
     "metadata": {},
     "execution_count": 65
    }
   ],
   "metadata": {}
  },
  {
   "cell_type": "code",
   "execution_count": 73,
   "source": [
    "len(full_tweets)"
   ],
   "outputs": [
    {
     "output_type": "execute_result",
     "data": {
      "text/plain": [
       "1"
      ]
     },
     "metadata": {},
     "execution_count": 73
    }
   ],
   "metadata": {}
  },
  {
   "cell_type": "code",
   "execution_count": null,
   "source": [],
   "outputs": [],
   "metadata": {}
  }
 ],
 "metadata": {
  "orig_nbformat": 4,
  "language_info": {
   "name": "python",
   "version": "3.8.10",
   "mimetype": "text/x-python",
   "codemirror_mode": {
    "name": "ipython",
    "version": 3
   },
   "pygments_lexer": "ipython3",
   "nbconvert_exporter": "python",
   "file_extension": ".py"
  },
  "kernelspec": {
   "name": "python3",
   "display_name": "Python 3.8.10 64-bit ('.venv': venv)"
  },
  "interpreter": {
   "hash": "af7f9bd1ffb6439c0bafdb6693411d31b1473b2e6be8cde282840d44f213c357"
  }
 },
 "nbformat": 4,
 "nbformat_minor": 2
}